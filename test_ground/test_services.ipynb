{
 "cells": [
  {
   "cell_type": "markdown",
   "metadata": {},
   "source": [
    "# Play ground for testing APIs before deployment in Foodie Web Service\n",
    "### Env used: django"
   ]
  },
  {
   "cell_type": "code",
   "execution_count": null,
   "metadata": {},
   "outputs": [],
   "source": [
    "import requests as req\n",
    "import json\n",
    "import jsonpath\n",
    "from geocodio import GeocodioClient\n",
    "import googlemaps"
   ]
  },
  {
   "cell_type": "code",
   "execution_count": null,
   "metadata": {},
   "outputs": [],
   "source": [
    "#Importing keys \n",
    "key_file=open(\"../storefront/keys.json\",'r')\n",
    "key_read=key_file.read()\n",
    "key_dict=json.loads(key_read)\n",
    "print(key_dict.keys())"
   ]
  },
  {
   "cell_type": "markdown",
   "metadata": {},
   "source": [
    "# Using Geocodio Client"
   ]
  },
  {
   "cell_type": "code",
   "execution_count": null,
   "metadata": {},
   "outputs": [],
   "source": [
    "from geocodio import GeocodioClient\n",
    "API_KEY = key_dict['GEOCODIO_API_KEY']\n",
    "client = GeocodioClient(API_KEY)\n",
    "\n",
    "location = client.geocode(\"1109 N Highland St, Arlington VA\")"
   ]
  },
  {
   "cell_type": "markdown",
   "metadata": {},
   "source": [
    "# Using Google Geocoding API"
   ]
  },
  {
   "cell_type": "code",
   "execution_count": null,
   "metadata": {},
   "outputs": [],
   "source": [
    "#Testing google geocoding api\n",
    "G_API_KEY = key_dict['GMAP_GEOCODING_API_KEY']\n",
    "gmaps = googlemaps.Client(key =G_API_KEY)\n",
    "g_response = gmaps.geocode('401, palm island 4, Royal palms')\n",
    "g_result = g_response[0]\n"
   ]
  },
  {
   "cell_type": "code",
   "execution_count": null,
   "metadata": {},
   "outputs": [],
   "source": [
    "for k in g_result.keys():\n",
    "    print(k)\n",
    "    print(g_result[k])\n",
    "    print()"
   ]
  },
  {
   "cell_type": "code",
   "execution_count": null,
   "metadata": {},
   "outputs": [],
   "source": [
    "#Extracting latitude and longitude for given location\n",
    "latitude = g_result['geometry']['location']['lat']\n",
    "longitude = g_result['geometry']['location']['lng']\n",
    "print(latitude,longitude)"
   ]
  },
  {
   "cell_type": "markdown",
   "metadata": {},
   "source": [
    "# Example of HTTP Requests"
   ]
  },
  {
   "cell_type": "markdown",
   "metadata": {},
   "source": [
    "## GET"
   ]
  },
  {
   "cell_type": "code",
   "execution_count": null,
   "metadata": {},
   "outputs": [],
   "source": [
    "url=\"https://reqres.in/api/users?page=2\"\n",
    "# url = \"https://absaw.github.io\"\n",
    "\n",
    "response=req.get(url)\n",
    "print(response)\n",
    "print(response.content)\n",
    "print(response.headers)\n",
    "# d = dict(response.headers)\n",
    "# for key, val in d:\n",
    "#     print(key,\": \",val)"
   ]
  },
  {
   "cell_type": "code",
   "execution_count": null,
   "metadata": {},
   "outputs": [],
   "source": [
    "import requests  # Import the requests library for making HTTP requests\n",
    "import json  # Import the json library for working with JSON data\n",
    "\n",
    "# Correct the URL\n",
    "url = \"https://reqres.in/api/users?page=2\"\n",
    "\n",
    "try:\n",
    "    # Make a GET request using requests.get()\n",
    "    response = requests.get(url)\n",
    "\n",
    "    # Check for successful response status code (200)\n",
    "    if response.status_code == 200:\n",
    "        # Convert the response content to a JSON object\n",
    "        json_res = json.loads(response.text)\n",
    "\n",
    "        # Check if the data array exists\n",
    "        if 'data' in json_res:\n",
    "            # Assuming 'data' is an array, extract the email from the first element\n",
    "            data = jsonpath.jsonpath(json_res, 'data[0].email')\n",
    "            print(data)\n",
    "            print(type(data))  # This will likely be a list if email is a string\n",
    "        else:\n",
    "            print(\"Error: 'data' key not found in JSON response\")\n",
    "    else:\n",
    "        print(f\"Error: Request failed with status code {response.status_code}\")\n",
    "\n",
    "except Exception as e:  # Catch any other exceptions\n",
    "    print(f\"An error occurred: {e}\")\n"
   ]
  },
  {
   "cell_type": "markdown",
   "metadata": {},
   "source": [
    "Breakdown:\n",
    "\n",
    "Import Necessary Libraries: requests for making HTTP requests and json for handling JSON data.\n",
    "\n",
    "\n",
    "Correct URL: Use the correct ReqRes API URL for users.\n",
    "\n",
    "\n",
    "Error Handling:\n",
    "try...except block to catch potential errors during network requests and JSON parsing.\n",
    "\n",
    "\n",
    "Check for successful response status code (200).\n",
    "\n",
    "\n",
    "Validate the presence of the data key in the JSON response before using jsonpath.\n",
    "\n",
    "\n",
    "Handle other exceptions more broadly using a general except clause.\n",
    "\n",
    "\n",
    "JSON Parsing and Extraction:\n",
    "Use json.loads() to convert the response text into a Python object (usually a dictionary).\n",
    "\n",
    "\n",
    "Employ jsonpath (assuming it's installed) to extract data using JSONPath expressions."
   ]
  },
  {
   "cell_type": "code",
   "execution_count": null,
   "metadata": {},
   "outputs": [],
   "source": [
    "# my turn \n",
    "\n",
    "import requests\n",
    "import json\n",
    "# url=\"www.reqres.in/\"\n",
    "url = \"https://reqres.in/api/users?page=2\"\n",
    "\n",
    "try:\n",
    "    response = requests.get(url)\n",
    "\n",
    "    if response.status_code == 200:\n",
    "        \n",
    "        json_response = json.loads(response.text) # take in json response and convert/load as dictionary\n",
    "        # print(json_response)\n",
    "        # print(type(json_response))\n",
    "        # print(json_response['data'])\n",
    "        email_list = []\n",
    "        for _ in range(len(json_response['data'])):\n",
    "            # print(json_response[data][_])\n",
    "            email_list.append(json_response['data'][_]['email'])\n",
    "        print(email_list)\n",
    "except Exception as e:\n",
    "    print(f'Exception occurred : {e}')"
   ]
  },
  {
   "cell_type": "code",
   "execution_count": null,
   "metadata": {},
   "outputs": [],
   "source": [
    "json_res=json.loads(response.text)\n",
    "print(json_res)\n",
    "print(type(json_res))#dictionary\n",
    "\n",
    "data=jsonpath.jsonpath(json_res, 'data[0].email')\n",
    "print(data)\n"
   ]
  },
  {
   "cell_type": "markdown",
   "metadata": {},
   "source": [
    "## Delete"
   ]
  },
  {
   "cell_type": "code",
   "execution_count": null,
   "metadata": {},
   "outputs": [],
   "source": [
    "url=\"https://reqres.in/api/users/2\"\n",
    "res_del=req.delete(url)\n",
    "print(res_del.status_code)"
   ]
  },
  {
   "cell_type": "markdown",
   "metadata": {},
   "source": [
    "## Post"
   ]
  },
  {
   "cell_type": "code",
   "execution_count": null,
   "metadata": {},
   "outputs": [],
   "source": [
    "url=\"https://reqres.in/api/users\"\n",
    "file=open(\"test.json\",'r')\n",
    "json_inp=file.read()\n",
    "req_json=json.loads(json_inp)\n",
    "print(req_json)\n",
    "print(type(req_json))\n",
    "\n",
    "response=req.post(url,req_json)\n",
    "print(response.status_code)\n",
    "print(response.content)\n",
    "\n",
    "print(response.headers)\n",
    "print(response.headers.get('Content-Length'))\n",
    "\n",
    "response_json=json.loads(response.text)\n",
    "print(type(response_json))\n",
    "print(response_json)\n",
    "\n",
    "# print('id=',response_json['id)\n",
    "# id=jsonpath.jsonpath(response,'id')\n",
    "# print(id[0])"
   ]
  },
  {
   "cell_type": "code",
   "execution_count": null,
   "metadata": {},
   "outputs": [],
   "source": [
    "\n",
    "url=\"https://api.geocod.io/v1.7/geocode?q=1109+N+Highland+St%2c+Arlington+VA&api_key=44ad516566cf56f6bd66d4bf0106b6ad6a1e066\"\n",
    "\n",
    "response=req.get(url)\n",
    "\n",
    "print(response)\n",
    "\n",
    "print(response.content)\n",
    "print(response.text)\n",
    "\n",
    "\n",
    "\n",
    "print(response.headers)\n",
    "print()\n",
    "\n",
    "json_res=json.loads(response.text)\n",
    "print(type(json_res))#dictionary\n",
    "print(json_res[\"results\"][0][\"location\"])\n",
    "# with open('test2.json', 'w') as outfile:\n",
    "#     json.dump(json_res, outfile)"
   ]
  },
  {
   "cell_type": "code",
   "execution_count": null,
   "metadata": {},
   "outputs": [],
   "source": [
    "#Testing yelp api - New urok location\n",
    "import requests\n",
    "\n",
    "url = \"https://api.yelp.com/v3/businesses/search?location=New%20York%20City&sort_by=best_match&limit=20\"\n",
    "auth = \"Bearer \"+key_dict['YELP_API_KEY']\n",
    "headers = {\n",
    "    \"accept\": \"application/json\",\n",
    "    \"Authorization\" : auth\n",
    "}\n",
    "\n",
    "response = requests.get(url, headers=headers)\n",
    "json_res=json.loads(response.text)\n",
    "print(type(json_res))#dictionary\n",
    "with open('test3.json', 'w') as outfile:\n",
    "    json.dump(json_res, outfile)\n",
    "# print(json_res[\"results\"][0][\"location\"])\n",
    "print(response)"
   ]
  },
  {
   "cell_type": "code",
   "execution_count": null,
   "metadata": {},
   "outputs": [],
   "source": [
    "# NB Station\n",
    "# Lat : 40.495569\n",
    "# Long: -74.445136\n",
    "import requests\n",
    "\n",
    "url = \"https://api.yelp.com/v3/businesses/search?latitude=40.495569&longitude=-74.445136&sort_by=best_match&limit=20\"\n",
    "auth = \"Bearer \"+key_dict['YELP_API_KEY']\n",
    "\n",
    "headers = {\n",
    "    \"accept\": \"application/json\",\n",
    "    \"Authorization\" : auth\n",
    "}\n",
    "\n",
    "response = requests.get(url, headers=headers)\n",
    "json_res=json.loads(response.text)\n",
    "print(type(json_res))#dictionary\n",
    "with open('nb_station.json', 'w') as outfile:\n",
    "    json.dump(json_res, outfile)\n",
    "# print(json_res[\"results\"][0][\"location\"])\n",
    "print(response)"
   ]
  },
  {
   "cell_type": "code",
   "execution_count": null,
   "metadata": {},
   "outputs": [],
   "source": [
    "print(response.text)"
   ]
  }
 ],
 "metadata": {
  "kernelspec": {
   "display_name": "base",
   "language": "python",
   "name": "python3"
  },
  "language_info": {
   "codemirror_mode": {
    "name": "ipython",
    "version": 3
   },
   "file_extension": ".py",
   "mimetype": "text/x-python",
   "name": "python",
   "nbconvert_exporter": "python",
   "pygments_lexer": "ipython3",
   "version": "3.12.4"
  },
  "orig_nbformat": 4,
  "vscode": {
   "interpreter": {
    "hash": "1d2e199063d01ca1103dd82832536cafd73e3fc5eb501591b6288846437b38f5"
   }
  }
 },
 "nbformat": 4,
 "nbformat_minor": 2
}
