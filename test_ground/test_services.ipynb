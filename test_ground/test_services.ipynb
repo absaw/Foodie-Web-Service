{
 "cells": [
  {
   "cell_type": "markdown",
   "metadata": {},
   "source": [
    "# Play ground for testing APIs before deployment in Foodie Web Service\n",
    "### Env used: django"
   ]
  },
  {
   "cell_type": "code",
   "execution_count": 2,
   "metadata": {},
   "outputs": [],
   "source": [
    "import requests as req\n",
    "import json\n",
    "import jsonpath\n",
    "from geocodio import GeocodioClient\n",
    "import googlemaps"
   ]
  },
  {
   "cell_type": "code",
   "execution_count": 3,
   "metadata": {},
   "outputs": [
    {
     "name": "stdout",
     "output_type": "stream",
     "text": [
      "dict_keys(['YELP_API_CLIENT_ID', 'YELP_API_KEY', 'GMAP_GEOCODING_API_KEY', 'GEOCODIO_API_KEY'])\n"
     ]
    }
   ],
   "source": [
    "#Importing keys \n",
    "key_file=open(\"../storefront/keys.json\",'r')\n",
    "key_read=key_file.read()\n",
    "key_dict=json.loads(key_read)\n",
    "print(key_dict.keys())"
   ]
  },
  {
   "cell_type": "markdown",
   "metadata": {},
   "source": [
    "# Using Geocodio Client"
   ]
  },
  {
   "cell_type": "code",
   "execution_count": 13,
   "metadata": {},
   "outputs": [],
   "source": [
    "from geocodio import GeocodioClient\n",
    "API_KEY = key_dict['GEOCODIO_API_KEY']\n",
    "client = GeocodioClient(API_KEY)\n",
    "\n",
    "location = client.geocode(\"1109 N Highland St, Arlington VA\")"
   ]
  },
  {
   "cell_type": "markdown",
   "metadata": {},
   "source": [
    "# Using Google Geocoding API"
   ]
  },
  {
   "cell_type": "code",
   "execution_count": 14,
   "metadata": {},
   "outputs": [],
   "source": [
    "#Testing google geocoding api\n",
    "G_API_KEY = key_dict['GMAP_GEOCODING_API_KEY']\n",
    "gmaps = googlemaps.Client(key =G_API_KEY)\n",
    "g_response = gmaps.geocode('401, palm island 4, Royal palms')"
   ]
  },
  {
   "cell_type": "code",
   "execution_count": 15,
   "metadata": {},
   "outputs": [],
   "source": [
    "g_result = g_response[0]"
   ]
  },
  {
   "cell_type": "code",
   "execution_count": 52,
   "metadata": {},
   "outputs": [
    {
     "name": "stdout",
     "output_type": "stream",
     "text": [
      "address_components\n",
      "[{'long_name': '51-4', 'short_name': '51-4', 'types': ['premise']}, {'long_name': 'Royal Palms', 'short_name': 'Royal Palms', 'types': ['political', 'sublocality', 'sublocality_level_3']}, {'long_name': 'Aarey Colony', 'short_name': 'Aarey Colony', 'types': ['political', 'sublocality', 'sublocality_level_2']}, {'long_name': 'Goregaon', 'short_name': 'Goregaon', 'types': ['political', 'sublocality', 'sublocality_level_1']}, {'long_name': 'Mumbai', 'short_name': 'Mumbai', 'types': ['locality', 'political']}, {'long_name': 'Mumbai Suburban', 'short_name': 'Mumbai Suburban', 'types': ['administrative_area_level_3', 'political']}, {'long_name': 'Konkan Division', 'short_name': 'Konkan Division', 'types': ['administrative_area_level_2', 'political']}, {'long_name': 'Maharashtra', 'short_name': 'MH', 'types': ['administrative_area_level_1', 'political']}, {'long_name': 'India', 'short_name': 'IN', 'types': ['country', 'political']}, {'long_name': '400065', 'short_name': '400065', 'types': ['postal_code']}]\n",
      "\n",
      "formatted_address\n",
      "51-4, Royal Palms, Aarey Colony, Goregaon, Mumbai, Maharashtra 400065, India\n",
      "\n",
      "geometry\n",
      "{'location': {'lat': 19.155179, 'lng': 72.88685199999999}, 'location_type': 'ROOFTOP', 'viewport': {'northeast': {'lat': 19.1564700802915, 'lng': 72.8881760302915}, 'southwest': {'lat': 19.1537721197085, 'lng': 72.88547806970848}}}\n",
      "\n",
      "partial_match\n",
      "True\n",
      "\n",
      "place_id\n",
      "ChIJrSHN58q35zsR_9t1E98lh3M\n",
      "\n",
      "plus_code\n",
      "{'compound_code': '5V4P+3P Mumbai, Maharashtra, India', 'global_code': '7JFJ5V4P+3P'}\n",
      "\n",
      "types\n",
      "['establishment', 'point_of_interest']\n",
      "\n"
     ]
    }
   ],
   "source": [
    "for k in g_result.keys():\n",
    "    print(k)\n",
    "    print(g_result[k])\n",
    "    print()"
   ]
  },
  {
   "cell_type": "code",
   "execution_count": 16,
   "metadata": {},
   "outputs": [
    {
     "name": "stdout",
     "output_type": "stream",
     "text": [
      "19.155179 72.88685199999999\n"
     ]
    }
   ],
   "source": [
    "#Extracting latitude and longitude for given location\n",
    "latitude = g_result['geometry']['location']['lat']\n",
    "longitude = g_result['geometry']['location']['lng']\n",
    "print(latitude,longitude)"
   ]
  },
  {
   "cell_type": "markdown",
   "metadata": {},
   "source": [
    "# Example of HTTP Requests"
   ]
  },
  {
   "cell_type": "markdown",
   "metadata": {},
   "source": [
    "## GET"
   ]
  },
  {
   "cell_type": "code",
   "execution_count": 7,
   "metadata": {},
   "outputs": [
    {
     "name": "stdout",
     "output_type": "stream",
     "text": [
      "<Response [200]>\n",
      "b'{\"page\":2,\"per_page\":6,\"total\":12,\"total_pages\":2,\"data\":[{\"id\":7,\"email\":\"michael.lawson@reqres.in\",\"first_name\":\"Michael\",\"last_name\":\"Lawson\",\"avatar\":\"https://reqres.in/img/faces/7-image.jpg\"},{\"id\":8,\"email\":\"lindsay.ferguson@reqres.in\",\"first_name\":\"Lindsay\",\"last_name\":\"Ferguson\",\"avatar\":\"https://reqres.in/img/faces/8-image.jpg\"},{\"id\":9,\"email\":\"tobias.funke@reqres.in\",\"first_name\":\"Tobias\",\"last_name\":\"Funke\",\"avatar\":\"https://reqres.in/img/faces/9-image.jpg\"},{\"id\":10,\"email\":\"byron.fields@reqres.in\",\"first_name\":\"Byron\",\"last_name\":\"Fields\",\"avatar\":\"https://reqres.in/img/faces/10-image.jpg\"},{\"id\":11,\"email\":\"george.edwards@reqres.in\",\"first_name\":\"George\",\"last_name\":\"Edwards\",\"avatar\":\"https://reqres.in/img/faces/11-image.jpg\"},{\"id\":12,\"email\":\"rachel.howell@reqres.in\",\"first_name\":\"Rachel\",\"last_name\":\"Howell\",\"avatar\":\"https://reqres.in/img/faces/12-image.jpg\"}],\"support\":{\"url\":\"https://reqres.in/#support-heading\",\"text\":\"To keep ReqRes free, contributions towards server costs are appreciated!\"}}'\n",
      "{'Date': 'Sat, 03 Aug 2024 21:14:06 GMT', 'Content-Type': 'application/json; charset=utf-8', 'Transfer-Encoding': 'chunked', 'Connection': 'keep-alive', 'Report-To': '{\"group\":\"heroku-nel\",\"max_age\":3600,\"endpoints\":[{\"url\":\"https://nel.heroku.com/reports?ts=1721954714&sid=c4c9725f-1ab0-44d8-820f-430df2718e11&s=mGHlO6%2BoMwE85XQjY9jztCyJJRYY97HkY4OLnAwHQco%3D\"}]}', 'Reporting-Endpoints': 'heroku-nel=https://nel.heroku.com/reports?ts=1721954714&sid=c4c9725f-1ab0-44d8-820f-430df2718e11&s=mGHlO6%2BoMwE85XQjY9jztCyJJRYY97HkY4OLnAwHQco%3D', 'Nel': '{\"report_to\":\"heroku-nel\",\"max_age\":3600,\"success_fraction\":0.005,\"failure_fraction\":0.05,\"response_headers\":[\"Via\"]}', 'X-Powered-By': 'Express', 'Access-Control-Allow-Origin': '*', 'Etag': 'W/\"406-ut0vzoCuidvyMf8arZpMpJ6ZRDw\"', 'Via': '1.1 vegur', 'Cache-Control': 'max-age=14400', 'CF-Cache-Status': 'HIT', 'Age': '5156', 'Vary': 'Accept-Encoding', 'Server': 'cloudflare', 'CF-RAY': '8ad950bd1b2ec445-EWR', 'Content-Encoding': 'gzip'}\n"
     ]
    }
   ],
   "source": [
    "url=\"https://reqres.in/api/users?page=2\"\n",
    "# url = \"https://absaw.github.io\"\n",
    "\n",
    "response=req.get(url)\n",
    "print(response)\n",
    "print(response.content)\n",
    "print(response.headers)\n",
    "# d = dict(response.headers)\n",
    "# for key, val in d:\n",
    "#     print(key,\": \",val)"
   ]
  },
  {
   "cell_type": "code",
   "execution_count": 8,
   "metadata": {},
   "outputs": [
    {
     "name": "stdout",
     "output_type": "stream",
     "text": [
      "['michael.lawson@reqres.in']\n",
      "<class 'list'>\n"
     ]
    }
   ],
   "source": [
    "import requests  # Import the requests library for making HTTP requests\n",
    "import json  # Import the json library for working with JSON data\n",
    "\n",
    "# Correct the URL\n",
    "url = \"https://reqres.in/api/users?page=2\"\n",
    "\n",
    "try:\n",
    "    # Make a GET request using requests.get()\n",
    "    response = requests.get(url)\n",
    "\n",
    "    # Check for successful response status code (200)\n",
    "    if response.status_code == 200:\n",
    "        # Convert the response content to a JSON object\n",
    "        json_res = json.loads(response.text)\n",
    "\n",
    "        # Check if the data array exists\n",
    "        if 'data' in json_res:\n",
    "            # Assuming 'data' is an array, extract the email from the first element\n",
    "            data = jsonpath.jsonpath(json_res, 'data[0].email')\n",
    "            print(data)\n",
    "            print(type(data))  # This will likely be a list if email is a string\n",
    "        else:\n",
    "            print(\"Error: 'data' key not found in JSON response\")\n",
    "    else:\n",
    "        print(f\"Error: Request failed with status code {response.status_code}\")\n",
    "\n",
    "except Exception as e:  # Catch any other exceptions\n",
    "    print(f\"An error occurred: {e}\")\n"
   ]
  },
  {
   "cell_type": "markdown",
   "metadata": {},
   "source": [
    "Breakdown:\n",
    "\n",
    "Import Necessary Libraries: requests for making HTTP requests and json for handling JSON data.\n",
    "\n",
    "\n",
    "Correct URL: Use the correct ReqRes API URL for users.\n",
    "\n",
    "\n",
    "Error Handling:\n",
    "try...except block to catch potential errors during network requests and JSON parsing.\n",
    "\n",
    "\n",
    "Check for successful response status code (200).\n",
    "\n",
    "\n",
    "Validate the presence of the data key in the JSON response before using jsonpath.\n",
    "\n",
    "\n",
    "Handle other exceptions more broadly using a general except clause.\n",
    "\n",
    "\n",
    "JSON Parsing and Extraction:\n",
    "Use json.loads() to convert the response text into a Python object (usually a dictionary).\n",
    "\n",
    "\n",
    "Employ jsonpath (assuming it's installed) to extract data using JSONPath expressions."
   ]
  },
  {
   "cell_type": "code",
   "execution_count": 21,
   "metadata": {},
   "outputs": [
    {
     "name": "stdout",
     "output_type": "stream",
     "text": [
      "['michael.lawson@reqres.in', 'lindsay.ferguson@reqres.in', 'tobias.funke@reqres.in', 'byron.fields@reqres.in', 'george.edwards@reqres.in', 'rachel.howell@reqres.in']\n"
     ]
    }
   ],
   "source": [
    "# my turn \n",
    "\n",
    "import requests\n",
    "import json\n",
    "# url=\"www.reqres.in/\"\n",
    "url = \"https://reqres.in/api/users?page=2\"\n",
    "\n",
    "try:\n",
    "    response = requests.get(url)\n",
    "\n",
    "    if response.status_code == 200:\n",
    "        \n",
    "        json_response = json.loads(response.text) # take in json response and convert/load as dictionary\n",
    "        # print(json_response)\n",
    "        # print(type(json_response))\n",
    "        # print(json_response['data'])\n",
    "        email_list = []\n",
    "        for _ in range(len(json_response['data'])):\n",
    "            # print(json_response[data][_])\n",
    "            email_list.append(json_response['data'][_]['email'])\n",
    "        print(email_list)\n",
    "except Exception as e:\n",
    "    print(f'Exception occurred : {e}')"
   ]
  },
  {
   "cell_type": "code",
   "execution_count": 24,
   "metadata": {},
   "outputs": [
    {
     "name": "stdout",
     "output_type": "stream",
     "text": [
      "{'page': 2, 'per_page': 6, 'total': 12, 'total_pages': 2, 'data': [{'id': 7, 'email': 'michael.lawson@reqres.in', 'first_name': 'Michael', 'last_name': 'Lawson', 'avatar': 'https://reqres.in/img/faces/7-image.jpg'}, {'id': 8, 'email': 'lindsay.ferguson@reqres.in', 'first_name': 'Lindsay', 'last_name': 'Ferguson', 'avatar': 'https://reqres.in/img/faces/8-image.jpg'}, {'id': 9, 'email': 'tobias.funke@reqres.in', 'first_name': 'Tobias', 'last_name': 'Funke', 'avatar': 'https://reqres.in/img/faces/9-image.jpg'}, {'id': 10, 'email': 'byron.fields@reqres.in', 'first_name': 'Byron', 'last_name': 'Fields', 'avatar': 'https://reqres.in/img/faces/10-image.jpg'}, {'id': 11, 'email': 'george.edwards@reqres.in', 'first_name': 'George', 'last_name': 'Edwards', 'avatar': 'https://reqres.in/img/faces/11-image.jpg'}, {'id': 12, 'email': 'rachel.howell@reqres.in', 'first_name': 'Rachel', 'last_name': 'Howell', 'avatar': 'https://reqres.in/img/faces/12-image.jpg'}], 'support': {'url': 'https://reqres.in/#support-heading', 'text': 'To keep ReqRes free, contributions towards server costs are appreciated!'}}\n",
      "<class 'dict'>\n",
      "['michael.lawson@reqres.in']\n"
     ]
    }
   ],
   "source": [
    "json_res=json.loads(response.text)\n",
    "print(json_res)\n",
    "print(type(json_res))#dictionary\n",
    "\n",
    "data=jsonpath.jsonpath(json_res, 'data[0].email')\n",
    "print(data)\n"
   ]
  },
  {
   "cell_type": "markdown",
   "metadata": {},
   "source": [
    "## Delete"
   ]
  },
  {
   "cell_type": "code",
   "execution_count": 25,
   "metadata": {},
   "outputs": [
    {
     "name": "stdout",
     "output_type": "stream",
     "text": [
      "204\n"
     ]
    }
   ],
   "source": [
    "url=\"https://reqres.in/api/users/2\"\n",
    "res_del=req.delete(url)\n",
    "print(res_del.status_code)"
   ]
  },
  {
   "cell_type": "markdown",
   "metadata": {},
   "source": [
    "## Post"
   ]
  },
  {
   "cell_type": "code",
   "execution_count": 27,
   "metadata": {},
   "outputs": [
    {
     "name": "stdout",
     "output_type": "stream",
     "text": [
      "{'name': 'Harry', 'id': 2}\n",
      "<class 'dict'>\n",
      "201\n",
      "b'{\"name\":\"Harry\",\"id\":\"2\",\"createdAt\":\"2024-08-03T22:39:27.737Z\"}'\n",
      "{'Date': 'Sat, 03 Aug 2024 22:39:27 GMT', 'Content-Type': 'application/json; charset=utf-8', 'Content-Length': '64', 'Connection': 'keep-alive', 'Report-To': '{\"group\":\"heroku-nel\",\"max_age\":3600,\"endpoints\":[{\"url\":\"https://nel.heroku.com/reports?ts=1722724767&sid=c4c9725f-1ab0-44d8-820f-430df2718e11&s=iA7TApKjmkAnFq3O1KCU8e69n6IA%2BclX4VkjGJbiSJU%3D\"}]}', 'Reporting-Endpoints': 'heroku-nel=https://nel.heroku.com/reports?ts=1722724767&sid=c4c9725f-1ab0-44d8-820f-430df2718e11&s=iA7TApKjmkAnFq3O1KCU8e69n6IA%2BclX4VkjGJbiSJU%3D', 'Nel': '{\"report_to\":\"heroku-nel\",\"max_age\":3600,\"success_fraction\":0.005,\"failure_fraction\":0.05,\"response_headers\":[\"Via\"]}', 'X-Powered-By': 'Express', 'Access-Control-Allow-Origin': '*', 'Etag': 'W/\"40-ivUZ8+JLfmo1XJEkO/NRKgCeHVU\"', 'Via': '1.1 vegur', 'CF-Cache-Status': 'DYNAMIC', 'Server': 'cloudflare', 'CF-RAY': '8ad9cdc55b4cc47c-EWR'}\n",
      "64\n",
      "<class 'dict'>\n",
      "{'name': 'Harry', 'id': '2', 'createdAt': '2024-08-03T22:39:27.737Z'}\n"
     ]
    }
   ],
   "source": [
    "url=\"https://reqres.in/api/users\"\n",
    "file=open(\"test.json\",'r')\n",
    "json_inp=file.read()\n",
    "req_json=json.loads(json_inp)\n",
    "print(req_json)\n",
    "print(type(req_json))\n",
    "\n",
    "response=req.post(url,req_json)\n",
    "print(response.status_code)\n",
    "print(response.content)\n",
    "\n",
    "print(response.headers)\n",
    "print(response.headers.get('Content-Length'))\n",
    "\n",
    "response_json=json.loads(response.text)\n",
    "print(type(response_json))\n",
    "print(response_json)\n",
    "\n",
    "# print('id=',response_json['id)\n",
    "# id=jsonpath.jsonpath(response,'id')\n",
    "# print(id[0])"
   ]
  },
  {
   "cell_type": "code",
   "execution_count": 2,
   "metadata": {},
   "outputs": [
    {
     "name": "stdout",
     "output_type": "stream",
     "text": [
      "<Response [200]>\n",
      "b'{\"input\":{\"address_components\":{\"number\":\"1109\",\"predirectional\":\"N\",\"street\":\"Highland\",\"suffix\":\"St\",\"formatted_street\":\"N Highland St\",\"city\":\"Arlington\",\"state\":\"VA\",\"country\":\"US\"},\"formatted_address\":\"1109 N Highland St, Arlington, VA\"},\"results\":[{\"address_components\":{\"number\":\"1109\",\"predirectional\":\"N\",\"street\":\"Highland\",\"suffix\":\"St\",\"formatted_street\":\"N Highland St\",\"city\":\"Arlington\",\"county\":\"Arlington County\",\"state\":\"VA\",\"zip\":\"22201\",\"country\":\"US\"},\"formatted_address\":\"1109 N Highland St, Arlington, VA 22201\",\"location\":{\"lat\":38.886672,\"lng\":-77.094735},\"accuracy\":1,\"accuracy_type\":\"rooftop\",\"source\":\"Arlington\"}]}'\n",
      "{\"input\":{\"address_components\":{\"number\":\"1109\",\"predirectional\":\"N\",\"street\":\"Highland\",\"suffix\":\"St\",\"formatted_street\":\"N Highland St\",\"city\":\"Arlington\",\"state\":\"VA\",\"country\":\"US\"},\"formatted_address\":\"1109 N Highland St, Arlington, VA\"},\"results\":[{\"address_components\":{\"number\":\"1109\",\"predirectional\":\"N\",\"street\":\"Highland\",\"suffix\":\"St\",\"formatted_street\":\"N Highland St\",\"city\":\"Arlington\",\"county\":\"Arlington County\",\"state\":\"VA\",\"zip\":\"22201\",\"country\":\"US\"},\"formatted_address\":\"1109 N Highland St, Arlington, VA 22201\",\"location\":{\"lat\":38.886672,\"lng\":-77.094735},\"accuracy\":1,\"accuracy_type\":\"rooftop\",\"source\":\"Arlington\"}]}\n",
      "{'content-type': 'application/json', 'transfer-encoding': 'chunked', 'cache-control': 'no-cache, private', 'date': 'Thu, 15 Aug 2024 01:53:42 GMT', 'x-billable-lookups-count': '1', 'x-billable-fields-count': '0', 'access-control-allow-origin': '*', 'access-control-allow-methods': 'GET, POST, PATCH, DELETE', 'access-control-allow-headers': 'Content-Type, User-Agent', 'access-control-expose-headers': 'Request-Handler', 'x-frame-options': 'DENY', 'content-security-policy': \"default-src 'none';\", 'request-handler': 'api297', 'server': 'Unicorns with magic wands (https://www.geocod.io)', 'content-encoding': 'gzip', 'x-request-id': '18E4EF3A:C086_05A11518:01BB_66BD5FA6_2BC24:285E', 'x-content-type-options': 'nosniff', 'x-xss-protection': '1; mode=block', 'x-ratelimit-remaining': '999', 'x-ratelimit-limit': '1000', 'x-ratelimit-period': '60', 'connection': 'close'}\n",
      "\n",
      "<class 'dict'>\n",
      "{'lat': 38.886672, 'lng': -77.094735}\n"
     ]
    }
   ],
   "source": [
    "\n",
    "url=\"https://api.geocod.io/v1.7/geocode?q=1109+N+Highland+St%2c+Arlington+VA&api_key=44ad516566cf56f6bd66d4bf0106b6ad6a1e066\"\n",
    "\n",
    "response=req.get(url)\n",
    "\n",
    "print(response)\n",
    "\n",
    "print(response.content)\n",
    "print(response.text)\n",
    "\n",
    "\n",
    "\n",
    "print(response.headers)\n",
    "print()\n",
    "\n",
    "json_res=json.loads(response.text)\n",
    "print(type(json_res))#dictionary\n",
    "print(json_res[\"results\"][0][\"location\"])\n",
    "# with open('test2.json', 'w') as outfile:\n",
    "#     json.dump(json_res, outfile)"
   ]
  },
  {
   "cell_type": "code",
   "execution_count": 17,
   "metadata": {},
   "outputs": [
    {
     "name": "stdout",
     "output_type": "stream",
     "text": [
      "<class 'dict'>\n",
      "<Response [200]>\n"
     ]
    }
   ],
   "source": [
    "#Testing yelp api - New urok location\n",
    "import requests\n",
    "\n",
    "url = \"https://api.yelp.com/v3/businesses/search?location=New%20York%20City&sort_by=best_match&limit=20\"\n",
    "auth = \"Bearer \"+key_dict['YELP_API_KEY']\n",
    "headers = {\n",
    "    \"accept\": \"application/json\",\n",
    "    \"Authorization\" : auth\n",
    "}\n",
    "\n",
    "response = requests.get(url, headers=headers)\n",
    "json_res=json.loads(response.text)\n",
    "print(type(json_res))#dictionary\n",
    "with open('test3.json', 'w') as outfile:\n",
    "    json.dump(json_res, outfile)\n",
    "# print(json_res[\"results\"][0][\"location\"])\n",
    "print(response)"
   ]
  },
  {
   "cell_type": "code",
   "execution_count": 18,
   "metadata": {},
   "outputs": [
    {
     "name": "stdout",
     "output_type": "stream",
     "text": [
      "<class 'dict'>\n",
      "<Response [200]>\n"
     ]
    }
   ],
   "source": [
    "# NB Station\n",
    "# Lat : 40.495569\n",
    "# Long: -74.445136\n",
    "import requests\n",
    "\n",
    "url = \"https://api.yelp.com/v3/businesses/search?latitude=40.495569&longitude=-74.445136&sort_by=best_match&limit=20\"\n",
    "auth = \"Bearer \"+key_dict['YELP_API_KEY']\n",
    "\n",
    "headers = {\n",
    "    \"accept\": \"application/json\",\n",
    "    \"Authorization\" : auth\n",
    "}\n",
    "\n",
    "response = requests.get(url, headers=headers)\n",
    "json_res=json.loads(response.text)\n",
    "print(type(json_res))#dictionary\n",
    "with open('nb_station.json', 'w') as outfile:\n",
    "    json.dump(json_res, outfile)\n",
    "# print(json_res[\"results\"][0][\"location\"])\n",
    "print(response)"
   ]
  },
  {
   "cell_type": "code",
   "execution_count": 57,
   "metadata": {},
   "outputs": [
    {
     "name": "stdout",
     "output_type": "stream",
     "text": [
      "{\"businesses\": [{\"id\": \"-GFswy6BpU3Qy7NuOJK6lw\", \"alias\": \"ramen-nagomi-new-brunswick\", \"name\": \"Ramen Nagomi\", \"image_url\": \"https://s3-media3.fl.yelpcdn.com/bphoto/q_-snpHnD_W93a4sPdzHMA/o.jpg\", \"is_closed\": false, \"url\": \"https://www.yelp.com/biz/ramen-nagomi-new-brunswick?adjust_creative=-mjMIC8pz1J5l0LyFXMPyA&utm_campaign=yelp_api_v3&utm_medium=api_v3_business_search&utm_source=-mjMIC8pz1J5l0LyFXMPyA\", \"review_count\": 1150, \"categories\": [{\"alias\": \"ramen\", \"title\": \"Ramen\"}], \"rating\": 4.4, \"coordinates\": {\"latitude\": 40.494550880229, \"longitude\": -74.4446812875442}, \"transactions\": [\"pickup\", \"delivery\"], \"price\": \"$$\", \"location\": {\"address1\": \"49 Bayard St\", \"address2\": \"\", \"address3\": \"\", \"city\": \"New Brunswick\", \"zip_code\": \"08901\", \"country\": \"US\", \"state\": \"NJ\", \"display_address\": [\"49 Bayard St\", \"New Brunswick, NJ 08901\"]}, \"phone\": \"+17323172623\", \"display_phone\": \"(732) 317-2623\", \"distance\": 119.56102736174422}, {\"id\": \"QMBbqDZmYZc0dXFwBgf1_g\", \"alias\": \"veganized-new-brunswick\", \"name\": \"Veganized\", \"image_url\": \"https://s3-media1.fl.yelpcdn.com/bphoto/T1-2YeBGBDE9wCj8_qjjxA/o.jpg\", \"is_closed\": false, \"url\": \"https://www.yelp.com/biz/veganized-new-brunswick?adjust_creative=-mjMIC8pz1J5l0LyFXMPyA&utm_campaign=yelp_api_v3&utm_medium=api_v3_business_search&utm_source=-mjMIC8pz1J5l0LyFXMPyA\", \"review_count\": 764, \"categories\": [{\"alias\": \"vegan\", \"title\": \"Vegan\"}, {\"alias\": \"wine_bars\", \"title\": \"Wine Bars\"}], \"rating\": 4.3, \"coordinates\": {\"latitude\": 40.49485, \"longitude\": -74.44489}, \"transactions\": [\"pickup\", \"delivery\"], \"price\": \"$$\", \"location\": {\"address1\": \"1 Elm Row\", \"address2\": \"\", \"address3\": \"\", \"city\": \"New Brunswick\", \"zip_code\": \"08901\", \"country\": \"US\", \"state\": \"NJ\", \"display_address\": [\"1 Elm Row\", \"New Brunswick, NJ 08901\"]}, \"phone\": \"+17323427412\", \"display_phone\": \"(732) 342-7412\", \"distance\": 75.1510729114467}, {\"id\": \"SVWxU5obi6tnHIGVl2a5fQ\", \"alias\": \"destination-dogs-new-brunswick-2\", \"name\": \"Destination Dogs\", \"image_url\": \"https://s3-media3.fl.yelpcdn.com/bphoto/Bs9-tXfvM8YaGDAfeCPFWg/o.jpg\", \"is_closed\": false, \"url\": \"https://www.yelp.com/biz/destination-dogs-new-brunswick-2?adjust_creative=-mjMIC8pz1J5l0LyFXMPyA&utm_campaign=yelp_api_v3&utm_medium=api_v3_business_search&utm_source=-mjMIC8pz1J5l0LyFXMPyA\", \"review_count\": 1246, \"categories\": [{\"alias\": \"hotdog\", \"title\": \"Hot Dogs\"}, {\"alias\": \"newamerican\", \"title\": \"New American\"}, {\"alias\": \"bars\", \"title\": \"Bars\"}], \"rating\": 4.5, \"coordinates\": {\"latitude\": 40.4947108291364, \"longitude\": -74.4481708172015}, \"transactions\": [\"pickup\", \"delivery\"], \"price\": \"$$\", \"location\": {\"address1\": \"101 Paterson St\", \"address2\": \"\", \"address3\": \"\", \"city\": \"New Brunswick\", \"zip_code\": \"08901\", \"country\": \"US\", \"state\": \"NJ\", \"display_address\": [\"101 Paterson St\", \"New Brunswick, NJ 08901\"]}, \"phone\": \"+17329931016\", \"display_phone\": \"(732) 993-1016\", \"distance\": 273.7894326303487}, {\"id\": \"bGOZN1YPrT7ibVSVghxmvA\", \"alias\": \"cuzins-seafood-clam-bar-new-brunswick-2\", \"name\": \"Cuzin's Seafood Clam Bar\", \"image_url\": \"https://s3-media4.fl.yelpcdn.com/bphoto/xAZw5NBV5MtIpZ5uCYoSBA/o.jpg\", \"is_closed\": false, \"url\": \"https://www.yelp.com/biz/cuzins-seafood-clam-bar-new-brunswick-2?adjust_creative=-mjMIC8pz1J5l0LyFXMPyA&utm_campaign=yelp_api_v3&utm_medium=api_v3_business_search&utm_source=-mjMIC8pz1J5l0LyFXMPyA\", \"review_count\": 244, \"categories\": [{\"alias\": \"seafood\", \"title\": \"Seafood\"}, {\"alias\": \"bars\", \"title\": \"Bars\"}, {\"alias\": \"steak\", \"title\": \"Steakhouses\"}], \"rating\": 4.2, \"coordinates\": {\"latitude\": 40.49677, \"longitude\": -74.44229}, \"transactions\": [], \"price\": \"$$$\", \"location\": {\"address1\": \"78 Albany St\", \"address2\": \"\", \"address3\": null, \"city\": \"New Brunswick\", \"zip_code\": \"08901\", \"country\": \"US\", \"state\": \"NJ\", \"display_address\": [\"78 Albany St\", \"New Brunswick, NJ 08901\"]}, \"phone\": \"+17329792141\", \"display_phone\": \"(732) 979-2141\", \"distance\": 248.15463459536818}, {\"id\": \"_FpHCp8whhFiE5EAVWoV-Q\", \"alias\": \"esquina-latina-restaurant-and-lounge-new-brunswick\", \"name\": \"Esquina Latina Restaurant & Lounge\", \"image_url\": \"https://s3-media1.fl.yelpcdn.com/bphoto/Hr_Gj2eJMfjyUsTBNDsuMQ/o.jpg\", \"is_closed\": false, \"url\": \"https://www.yelp.com/biz/esquina-latina-restaurant-and-lounge-new-brunswick?adjust_creative=-mjMIC8pz1J5l0LyFXMPyA&utm_campaign=yelp_api_v3&utm_medium=api_v3_business_search&utm_source=-mjMIC8pz1J5l0LyFXMPyA\", \"review_count\": 591, \"categories\": [{\"alias\": \"cuban\", \"title\": \"Cuban\"}, {\"alias\": \"latin\", \"title\": \"Latin American\"}], \"rating\": 3.9, \"coordinates\": {\"latitude\": 40.4939632862806, \"longitude\": -74.4422650337219}, \"transactions\": [\"pickup\", \"delivery\"], \"price\": \"$$\", \"location\": {\"address1\": \"25 Liberty St\", \"address2\": \"\", \"address3\": \"\", \"city\": \"New Brunswick\", \"zip_code\": \"08901\", \"country\": \"US\", \"state\": \"NJ\", \"display_address\": [\"25 Liberty St\", \"New Brunswick, NJ 08901\"]}, \"phone\": \"+17325431630\", \"display_phone\": \"(732) 543-1630\", \"distance\": 260.3722395515685}, {\"id\": \"TN-XggfxYNSsOZ_Czi5PWA\", \"alias\": \"dashen-ethiopian-cuisine-new-brunswick\", \"name\": \"Dashen Ethiopian Cuisine\", \"image_url\": \"https://s3-media2.fl.yelpcdn.com/bphoto/mXJJKm1gHgodbJ82ZC_WgQ/o.jpg\", \"is_closed\": false, \"url\": \"https://www.yelp.com/biz/dashen-ethiopian-cuisine-new-brunswick?adjust_creative=-mjMIC8pz1J5l0LyFXMPyA&utm_campaign=yelp_api_v3&utm_medium=api_v3_business_search&utm_source=-mjMIC8pz1J5l0LyFXMPyA\", \"review_count\": 326, \"categories\": [{\"alias\": \"ethiopian\", \"title\": \"Ethiopian\"}, {\"alias\": \"african\", \"title\": \"African\"}], \"rating\": 4.4, \"coordinates\": {\"latitude\": 40.4966812, \"longitude\": -74.4429754}, \"transactions\": [\"restaurant_reservation\", \"pickup\", \"delivery\"], \"price\": \"$$\", \"location\": {\"address1\": \"88 Albany St\", \"address2\": \"\", \"address3\": \"\", \"city\": \"New Brunswick\", \"zip_code\": \"08901\", \"country\": \"US\", \"state\": \"NJ\", \"display_address\": [\"88 Albany St\", \"New Brunswick, NJ 08901\"]}, \"phone\": \"+17322490494\", \"display_phone\": \"(732) 249-0494\", \"distance\": 212.5569261553878}, {\"id\": \"up9m_fXbeaHiSvSA5GchQg\", \"alias\": \"rakkii-ramen-new-brunswick\", \"name\": \"Rakkii Ramen\", \"image_url\": \"https://s3-media1.fl.yelpcdn.com/bphoto/GwnonDnXicamyS0S_7e4QQ/o.jpg\", \"is_closed\": false, \"url\": \"https://www.yelp.com/biz/rakkii-ramen-new-brunswick?adjust_creative=-mjMIC8pz1J5l0LyFXMPyA&utm_campaign=yelp_api_v3&utm_medium=api_v3_business_search&utm_source=-mjMIC8pz1J5l0LyFXMPyA\", \"review_count\": 119, \"categories\": [{\"alias\": \"ramen\", \"title\": \"Ramen\"}], \"rating\": 4.3, \"coordinates\": {\"latitude\": 40.494739, \"longitude\": -74.443508}, \"transactions\": [\"pickup\", \"delivery\"], \"price\": \"$$\", \"location\": {\"address1\": \"353 George St\", \"address2\": null, \"address3\": \"\", \"city\": \"New Brunswick\", \"zip_code\": \"08901\", \"country\": \"US\", \"state\": \"NJ\", \"display_address\": [\"353 George St\", \"New Brunswick, NJ 08901\"]}, \"phone\": \"+18482029067\", \"display_phone\": \"(848) 202-9067\", \"distance\": 166.45895847031363}, {\"id\": \"D53KKwQ5qotQK931jroyVQ\", \"alias\": \"deltas-new-brunswick-3\", \"name\": \"Delta's\", \"image_url\": \"https://s3-media4.fl.yelpcdn.com/bphoto/2c5MvlULS_UW5H1Q94LIPQ/o.jpg\", \"is_closed\": false, \"url\": \"https://www.yelp.com/biz/deltas-new-brunswick-3?adjust_creative=-mjMIC8pz1J5l0LyFXMPyA&utm_campaign=yelp_api_v3&utm_medium=api_v3_business_search&utm_source=-mjMIC8pz1J5l0LyFXMPyA\", \"review_count\": 635, \"categories\": [{\"alias\": \"soulfood\", \"title\": \"Soul Food\"}, {\"alias\": \"southern\", \"title\": \"Southern\"}, {\"alias\": \"cocktailbars\", \"title\": \"Cocktail Bars\"}], \"rating\": 3.4, \"coordinates\": {\"latitude\": 40.4946706300513, \"longitude\": -74.4407684698668}, \"transactions\": [\"pickup\", \"delivery\"], \"price\": \"$$\", \"location\": {\"address1\": \"19 Dennis St\", \"address2\": \"\", \"address3\": \"\", \"city\": \"New Brunswick\", \"zip_code\": \"08901\", \"country\": \"US\", \"state\": \"NJ\", \"display_address\": [\"19 Dennis St\", \"New Brunswick, NJ 08901\"]}, \"phone\": \"+17322491551\", \"display_phone\": \"(732) 249-1551\", \"distance\": 382.5869130581364}, {\"id\": \"LdWYqYi-EdMayOMMjbNWjA\", \"alias\": \"sakana-sushi-and-japanese-cuisine-new-brunswick\", \"name\": \"Sakana Sushi & Japanese Cuisine\", \"image_url\": \"https://s3-media3.fl.yelpcdn.com/bphoto/SKnlWogarSHsQgmNeGo-Fg/o.jpg\", \"is_closed\": false, \"url\": \"https://www.yelp.com/biz/sakana-sushi-and-japanese-cuisine-new-brunswick?adjust_creative=-mjMIC8pz1J5l0LyFXMPyA&utm_campaign=yelp_api_v3&utm_medium=api_v3_business_search&utm_source=-mjMIC8pz1J5l0LyFXMPyA\", \"review_count\": 139, \"categories\": [{\"alias\": \"sushi\", \"title\": \"Sushi Bars\"}, {\"alias\": \"japanese\", \"title\": \"Japanese\"}], \"rating\": 4.1, \"coordinates\": {\"latitude\": 40.493972, \"longitude\": -74.444027}, \"transactions\": [\"restaurant_reservation\", \"delivery\", \"pickup\"], \"price\": \"$$\", \"location\": {\"address1\": \"338 George St\", \"address2\": null, \"address3\": \"\", \"city\": \"New Brunswick\", \"zip_code\": \"08901\", \"country\": \"US\", \"state\": \"NJ\", \"display_address\": [\"338 George St\", \"New Brunswick, NJ 08901\"]}, \"phone\": \"+17328679308\", \"display_phone\": \"(732) 867-9308\", \"distance\": 200.96734894822288}, {\"id\": \"g1WZAxjcIzvo1uC5v2VV1A\", \"alias\": \"smashville-new-brunswick\", \"name\": \"Smashville\", \"image_url\": \"https://s3-media2.fl.yelpcdn.com/bphoto/cl3HqnsLMUNLfHwOgQe3Bw/o.jpg\", \"is_closed\": false, \"url\": \"https://www.yelp.com/biz/smashville-new-brunswick?adjust_creative=-mjMIC8pz1J5l0LyFXMPyA&utm_campaign=yelp_api_v3&utm_medium=api_v3_business_search&utm_source=-mjMIC8pz1J5l0LyFXMPyA\", \"review_count\": 99, \"categories\": [{\"alias\": \"burgers\", \"title\": \"Burgers\"}], \"rating\": 4.5, \"coordinates\": {\"latitude\": 40.4956387, \"longitude\": -74.44389}, \"transactions\": [\"pickup\", \"delivery\"], \"price\": \"$$\", \"location\": {\"address1\": \"377A George St\", \"address2\": null, \"address3\": \"\", \"city\": \"New Brunswick\", \"zip_code\": \"08901\", \"country\": \"US\", \"state\": \"NJ\", \"display_address\": [\"377A George St\", \"New Brunswick, NJ 08901\"]}, \"phone\": \"+17323172200\", \"display_phone\": \"(732) 317-2200\", \"distance\": 105.64485060873356}, {\"id\": \"SorAfucKHa9q6OQqm492VQ\", \"alias\": \"tacoria-new-brunswick\", \"name\": \"Tacoria\", \"image_url\": \"https://s3-media1.fl.yelpcdn.com/bphoto/m-Jl2XQPieoAGRKA3AHcww/o.jpg\", \"is_closed\": false, \"url\": \"https://www.yelp.com/biz/tacoria-new-brunswick?adjust_creative=-mjMIC8pz1J5l0LyFXMPyA&utm_campaign=yelp_api_v3&utm_medium=api_v3_business_search&utm_source=-mjMIC8pz1J5l0LyFXMPyA\", \"review_count\": 636, \"categories\": [{\"alias\": \"tex-mex\", \"title\": \"Tex-Mex\"}, {\"alias\": \"mexican\", \"title\": \"Mexican\"}], \"rating\": 4.3, \"coordinates\": {\"latitude\": 40.4976879287307, \"longitude\": -74.4489852920828}, \"transactions\": [\"pickup\", \"delivery\"], \"price\": \"$$\", \"location\": {\"address1\": \"56A Easton Ave\", \"address2\": null, \"address3\": \"\", \"city\": \"New Brunswick\", \"zip_code\": \"08901\", \"country\": \"US\", \"state\": \"NJ\", \"display_address\": [\"56A Easton Ave\", \"New Brunswick, NJ 08901\"]}, \"phone\": \"+17323172070\", \"display_phone\": \"(732) 317-2070\", \"distance\": 401.81490347104403}, {\"id\": \"FsOqfY3z5CXovt8SSEnfVg\", \"alias\": \"namli-mediterranean-and-turkish-cuisine-new-brunswick\", \"name\": \"Namli Mediterranean & Turkish Cuisine\", \"image_url\": \"https://s3-media3.fl.yelpcdn.com/bphoto/qGWTWoFcrZ5UI-tId1yyMA/o.jpg\", \"is_closed\": false, \"url\": \"https://www.yelp.com/biz/namli-mediterranean-and-turkish-cuisine-new-brunswick?adjust_creative=-mjMIC8pz1J5l0LyFXMPyA&utm_campaign=yelp_api_v3&utm_medium=api_v3_business_search&utm_source=-mjMIC8pz1J5l0LyFXMPyA\", \"review_count\": 378, \"categories\": [{\"alias\": \"turkish\", \"title\": \"Turkish\"}, {\"alias\": \"mediterranean\", \"title\": \"Mediterranean\"}, {\"alias\": \"kebab\", \"title\": \"Kebab\"}], \"rating\": 4.5, \"coordinates\": {\"latitude\": 40.49826, \"longitude\": -74.45712}, \"transactions\": [\"pickup\", \"delivery\"], \"price\": \"$$\", \"location\": {\"address1\": \"88 Central Ave\", \"address2\": null, \"address3\": \"\", \"city\": \"New Brunswick\", \"zip_code\": \"08901\", \"country\": \"US\", \"state\": \"NJ\", \"display_address\": [\"88 Central Ave\", \"New Brunswick, NJ 08901\"]}, \"phone\": \"+17325430116\", \"display_phone\": \"(732) 543-0116\", \"distance\": 1067.8250600093997}, {\"id\": \"Xp0__IEyi-5ZJc5hCXv1RQ\", \"alias\": \"chai-chenak-new-brunswick\", \"name\": \"Chai Chenak\", \"image_url\": \"https://s3-media1.fl.yelpcdn.com/bphoto/h8ZRmgN0i4ch20mMD1oGqA/o.jpg\", \"is_closed\": false, \"url\": \"https://www.yelp.com/biz/chai-chenak-new-brunswick?adjust_creative=-mjMIC8pz1J5l0LyFXMPyA&utm_campaign=yelp_api_v3&utm_medium=api_v3_business_search&utm_source=-mjMIC8pz1J5l0LyFXMPyA\", \"review_count\": 298, \"categories\": [{\"alias\": \"halal\", \"title\": \"Halal\"}, {\"alias\": \"pakistani\", \"title\": \"Pakistani\"}, {\"alias\": \"breakfast_brunch\", \"title\": \"Breakfast & Brunch\"}], \"rating\": 3.8, \"coordinates\": {\"latitude\": 40.49463, \"longitude\": -74.4435}, \"transactions\": [\"pickup\", \"delivery\"], \"price\": \"$$\", \"location\": {\"address1\": \"349A George St\", \"address2\": null, \"address3\": \"\", \"city\": \"New Brunswick\", \"zip_code\": \"08901\", \"country\": \"US\", \"state\": \"NJ\", \"display_address\": [\"349A George St\", \"New Brunswick, NJ 08901\"]}, \"phone\": \"+17322462600\", \"display_phone\": \"(732) 246-2600\", \"distance\": 176.9622580112233}, {\"id\": \"LFhqaEVryfeS-KGXrXTdRQ\", \"alias\": \"roosterspin-new-brunswick-2\", \"name\": \"Roosterspin\", \"image_url\": \"https://s3-media4.fl.yelpcdn.com/bphoto/YxHKuEG1-oj4Dvj71ORccA/o.jpg\", \"is_closed\": false, \"url\": \"https://www.yelp.com/biz/roosterspin-new-brunswick-2?adjust_creative=-mjMIC8pz1J5l0LyFXMPyA&utm_campaign=yelp_api_v3&utm_medium=api_v3_business_search&utm_source=-mjMIC8pz1J5l0LyFXMPyA\", \"review_count\": 233, \"categories\": [{\"alias\": \"bars\", \"title\": \"Bars\"}, {\"alias\": \"korean\", \"title\": \"Korean\"}, {\"alias\": \"salad\", \"title\": \"Salad\"}], \"rating\": 3.7, \"coordinates\": {\"latitude\": 40.496362, \"longitude\": -74.445401}, \"transactions\": [\"pickup\"], \"price\": \"$$\", \"location\": {\"address1\": \"120 Albany St\", \"address2\": \"\", \"address3\": null, \"city\": \"New Brunswick\", \"zip_code\": \"08901\", \"country\": \"US\", \"state\": \"NJ\", \"display_address\": [\"120 Albany St\", \"New Brunswick, NJ 08901\"]}, \"phone\": \"+17325454500\", \"display_phone\": \"(732) 545-4500\", \"distance\": 90.98012822342464}, {\"id\": \"DPyTHTX6jr1ND7PXYS9z4Q\", \"alias\": \"stage-left-steak-new-brunswick\", \"name\": \"Stage Left Steak\", \"image_url\": \"https://s3-media1.fl.yelpcdn.com/bphoto/pd2nzR69Fhwxl3tLXJSNOQ/o.jpg\", \"is_closed\": false, \"url\": \"https://www.yelp.com/biz/stage-left-steak-new-brunswick?adjust_creative=-mjMIC8pz1J5l0LyFXMPyA&utm_campaign=yelp_api_v3&utm_medium=api_v3_business_search&utm_source=-mjMIC8pz1J5l0LyFXMPyA\", \"review_count\": 246, \"categories\": [{\"alias\": \"tradamerican\", \"title\": \"American\"}, {\"alias\": \"steak\", \"title\": \"Steakhouses\"}, {\"alias\": \"bars\", \"title\": \"Bars\"}], \"rating\": 3.7, \"coordinates\": {\"latitude\": 40.493785005224, \"longitude\": -74.4437874349408}, \"transactions\": [\"pickup\", \"delivery\"], \"price\": \"$$$\", \"location\": {\"address1\": \"5 Livingston Ave\", \"address2\": \"\", \"address3\": \"\", \"city\": \"New Brunswick\", \"zip_code\": \"08901\", \"country\": \"US\", \"state\": \"NJ\", \"display_address\": [\"5 Livingston Ave\", \"New Brunswick, NJ 08901\"]}, \"phone\": \"+17328284444\", \"display_phone\": \"(732) 828-4444\", \"distance\": 228.81194570883903}, {\"id\": \"0yTY4IADqlTM5_PHfqgVTw\", \"alias\": \"indochine-new-brunswick\", \"name\": \"Indochine\", \"image_url\": \"https://s3-media3.fl.yelpcdn.com/bphoto/IcxD8IfVR8QHFM-T68I9Lg/o.jpg\", \"is_closed\": false, \"url\": \"https://www.yelp.com/biz/indochine-new-brunswick?adjust_creative=-mjMIC8pz1J5l0LyFXMPyA&utm_campaign=yelp_api_v3&utm_medium=api_v3_business_search&utm_source=-mjMIC8pz1J5l0LyFXMPyA\", \"review_count\": 224, \"categories\": [{\"alias\": \"vietnamese\", \"title\": \"Vietnamese\"}, {\"alias\": \"noodles\", \"title\": \"Noodles\"}], \"rating\": 3.8, \"coordinates\": {\"latitude\": 40.495417901891, \"longitude\": -74.4436081836146}, \"transactions\": [\"pickup\", \"delivery\"], \"price\": \"$\", \"location\": {\"address1\": \"371 George St\", \"address2\": \"\", \"address3\": \"\", \"city\": \"New Brunswick\", \"zip_code\": \"08901\", \"country\": \"US\", \"state\": \"NJ\", \"display_address\": [\"371 George St\", \"New Brunswick, NJ 08901\"]}, \"phone\": \"+17327452928\", \"display_phone\": \"(732) 745-2928\", \"distance\": 130.27836188754037}, {\"id\": \"NUuMeryNv5j0g-qQ6dsjIA\", \"alias\": \"sahara-restaurant-new-brunswick\", \"name\": \"Sahara Restaurant\", \"image_url\": \"https://s3-media2.fl.yelpcdn.com/bphoto/m0KoMkOQYfBGo7gJjjyvRg/o.jpg\", \"is_closed\": false, \"url\": \"https://www.yelp.com/biz/sahara-restaurant-new-brunswick?adjust_creative=-mjMIC8pz1J5l0LyFXMPyA&utm_campaign=yelp_api_v3&utm_medium=api_v3_business_search&utm_source=-mjMIC8pz1J5l0LyFXMPyA\", \"review_count\": 603, \"categories\": [{\"alias\": \"mideastern\", \"title\": \"Middle Eastern\"}, {\"alias\": \"turkish\", \"title\": \"Turkish\"}], \"rating\": 4.1, \"coordinates\": {\"latitude\": 40.50012, \"longitude\": -74.45423}, \"transactions\": [\"pickup\", \"delivery\"], \"price\": \"$$\", \"location\": {\"address1\": \"165 Easton Ave\", \"address2\": \"\", \"address3\": \"\", \"city\": \"New Brunswick\", \"zip_code\": \"08901\", \"country\": \"US\", \"state\": \"NJ\", \"display_address\": [\"165 Easton Ave\", \"New Brunswick, NJ 08901\"]}, \"phone\": \"+17322463020\", \"display_phone\": \"(732) 246-3020\", \"distance\": 912.7166493660519}, {\"id\": \"fCpEnHin6R6KS-oZIXolqA\", \"alias\": \"merey-venezuelan-cuisine-highland-park\", \"name\": \"Merey Venezuelan Cuisine\", \"image_url\": \"https://s3-media1.fl.yelpcdn.com/bphoto/o8S6bbCgmJdq8skocfQrpg/o.jpg\", \"is_closed\": false, \"url\": \"https://www.yelp.com/biz/merey-venezuelan-cuisine-highland-park?adjust_creative=-mjMIC8pz1J5l0LyFXMPyA&utm_campaign=yelp_api_v3&utm_medium=api_v3_business_search&utm_source=-mjMIC8pz1J5l0LyFXMPyA\", \"review_count\": 177, \"categories\": [{\"alias\": \"venezuelan\", \"title\": \"Venezuelan\"}], \"rating\": 4.5, \"coordinates\": {\"latitude\": 40.498, \"longitude\": -74.43111}, \"transactions\": [\"pickup\", \"delivery\"], \"price\": \"$$\", \"location\": {\"address1\": \"128 Raritan Ave\", \"address2\": \"\", \"address3\": \"\", \"city\": \"Highland Park\", \"zip_code\": \"08904\", \"country\": \"US\", \"state\": \"NJ\", \"display_address\": [\"128 Raritan Ave\", \"Highland Park, NJ 08904\"]}, \"phone\": \"+17323544228\", \"display_phone\": \"(732) 354-4228\", \"distance\": 1214.355052471961}, {\"id\": \"_5HH3bvp9y4hUVBe_tonTw\", \"alias\": \"okie-pokii-cafe-highland-park\", \"name\": \"Okie Pokii Cafe\", \"image_url\": \"https://s3-media3.fl.yelpcdn.com/bphoto/nR1FhNy3dvx2yzXOIqIHqg/o.jpg\", \"is_closed\": false, \"url\": \"https://www.yelp.com/biz/okie-pokii-cafe-highland-park?adjust_creative=-mjMIC8pz1J5l0LyFXMPyA&utm_campaign=yelp_api_v3&utm_medium=api_v3_business_search&utm_source=-mjMIC8pz1J5l0LyFXMPyA\", \"review_count\": 254, \"categories\": [{\"alias\": \"poke\", \"title\": \"Poke\"}, {\"alias\": \"bubbletea\", \"title\": \"Bubble Tea\"}, {\"alias\": \"cafes\", \"title\": \"Cafes\"}], \"rating\": 4.4, \"coordinates\": {\"latitude\": 40.4983, \"longitude\": -74.4341}, \"transactions\": [\"pickup\", \"delivery\"], \"price\": \"$$\", \"location\": {\"address1\": \"55 Raritan Ave\", \"address2\": null, \"address3\": \"\", \"city\": \"Highland Park\", \"zip_code\": \"08904\", \"country\": \"US\", \"state\": \"NJ\", \"display_address\": [\"55 Raritan Ave\", \"Highland Park, NJ 08904\"]}, \"phone\": \"+17322270022\", \"display_phone\": \"(732) 227-0022\", \"distance\": 971.9239481342505}, {\"id\": \"ih7GMoT6cxdAYx2tJ49t2w\", \"alias\": \"cambo-box-new-brunswick-5\", \"name\": \"Cambo Box\", \"image_url\": \"https://s3-media4.fl.yelpcdn.com/bphoto/5q6YkDssx87SKS7-QZAKaw/o.jpg\", \"is_closed\": false, \"url\": \"https://www.yelp.com/biz/cambo-box-new-brunswick-5?adjust_creative=-mjMIC8pz1J5l0LyFXMPyA&utm_campaign=yelp_api_v3&utm_medium=api_v3_business_search&utm_source=-mjMIC8pz1J5l0LyFXMPyA\", \"review_count\": 128, \"categories\": [{\"alias\": \"cambodian\", \"title\": \"Cambodian\"}, {\"alias\": \"sandwiches\", \"title\": \"Sandwiches\"}, {\"alias\": \"asianfusion\", \"title\": \"Asian Fusion\"}], \"rating\": 4.4, \"coordinates\": {\"latitude\": 40.49413, \"longitude\": -74.4440599}, \"transactions\": [\"pickup\", \"delivery\"], \"price\": \"$\", \"location\": {\"address1\": \"342 George St\", \"address2\": null, \"address3\": \"\", \"city\": \"New Brunswick\", \"zip_code\": \"08901\", \"country\": \"US\", \"state\": \"NJ\", \"display_address\": [\"342 George St\", \"New Brunswick, NJ 08901\"]}, \"phone\": \"+17322200017\", \"display_phone\": \"(732) 220-0017\", \"distance\": 186.40760413349906}], \"total\": 15000, \"region\": {\"center\": {\"longitude\": -74.445136, \"latitude\": 40.495569}}}\n"
     ]
    }
   ],
   "source": [
    "print(response.text)"
   ]
  }
 ],
 "metadata": {
  "kernelspec": {
   "display_name": "base",
   "language": "python",
   "name": "python3"
  },
  "language_info": {
   "codemirror_mode": {
    "name": "ipython",
    "version": 3
   },
   "file_extension": ".py",
   "mimetype": "text/x-python",
   "name": "python",
   "nbconvert_exporter": "python",
   "pygments_lexer": "ipython3",
   "version": "3.12.4"
  },
  "orig_nbformat": 4,
  "vscode": {
   "interpreter": {
    "hash": "1d2e199063d01ca1103dd82832536cafd73e3fc5eb501591b6288846437b38f5"
   }
  }
 },
 "nbformat": 4,
 "nbformat_minor": 2
}
